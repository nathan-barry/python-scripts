{
 "cells": [
  {
   "cell_type": "code",
   "execution_count": 40,
   "metadata": {},
   "outputs": [],
   "source": [
    "# Scores and Weights\n",
    "homework = (.92, .12)\n",
    "quizzes = (1, .08)\n",
    "test1 = (.92, .15)\n",
    "test2 = (.92, .20)\n",
    "test3 = (.89, .20)\n",
    "final = (.92, .25)\n",
    "\n",
    "arr = []\n",
    "\n",
    "arr.append(homework)\n",
    "arr.append(quizzes)\n",
    "arr.append(test1)\n",
    "arr.append(test2)\n",
    "arr.append(test3)\n",
    "arr.append(final)"
   ]
  },
  {
   "cell_type": "code",
   "execution_count": 5,
   "metadata": {},
   "outputs": [],
   "source": [
    "def calculate(arr):\n",
    "    numerator = 0\n",
    "    denominator = 0\n",
    "    for score, weight in arr:\n",
    "        numerator += score * weight\n",
    "        denominator += weight\n",
    "    return numerator / denominator"
   ]
  },
  {
   "cell_type": "code",
   "execution_count": 41,
   "metadata": {},
   "outputs": [
    {
     "name": "stdout",
     "output_type": "stream",
     "text": [
      "0.9204000000000001\n"
     ]
    }
   ],
   "source": [
    "print(calculate(arr))"
   ]
  }
 ],
 "metadata": {
  "kernelspec": {
   "display_name": "Python 3.9.13 ('base')",
   "language": "python",
   "name": "python3"
  },
  "language_info": {
   "codemirror_mode": {
    "name": "ipython",
    "version": 3
   },
   "file_extension": ".py",
   "mimetype": "text/x-python",
   "name": "python",
   "nbconvert_exporter": "python",
   "pygments_lexer": "ipython3",
   "version": "3.9.13"
  },
  "orig_nbformat": 4,
  "vscode": {
   "interpreter": {
    "hash": "0765b9855a7659208f612bcb0b9b5e473e80eecc03acde40f135996d767af958"
   }
  }
 },
 "nbformat": 4,
 "nbformat_minor": 2
}
