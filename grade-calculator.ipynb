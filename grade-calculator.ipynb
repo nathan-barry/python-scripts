{
 "cells": [
  {
   "cell_type": "code",
   "execution_count": null,
   "metadata": {},
   "outputs": [],
   "source": [
    "def calculate(arr):\n",
    "    numerator = 0\n",
    "    denominator = 0\n",
    "    for score, weight in arr:\n",
    "        numerator += score * weight\n",
    "        denominator += weight\n",
    "    return numerator / denominator"
   ]
  },
  {
   "cell_type": "code",
   "execution_count": 100,
   "metadata": {},
   "outputs": [
    {
     "name": "stdout",
     "output_type": "stream",
     "text": [
      "Grade: 89.83999999999999%\n"
     ]
    }
   ],
   "source": [
    "# Scores and Weights\n",
    "homework = (92, .12)\n",
    "quizzes = (100, .08)\n",
    "test1 = (92, .16)\n",
    "test2 = (87, .20)\n",
    "test3 = (89, .20)\n",
    "final = (87, .24)\n",
    "\n",
    "arr = []\n",
    "\n",
    "arr.append(homework)\n",
    "arr.append(quizzes)\n",
    "arr.append(test1)\n",
    "arr.append(test2)\n",
    "arr.append(test3)\n",
    "arr.append(final)\n",
    "\n",
    "print(f\"Grade: {calculate(arr)}%\")"
   ]
  },
  {
   "cell_type": "code",
   "execution_count": 102,
   "metadata": {},
   "outputs": [
    {
     "name": "stdout",
     "output_type": "stream",
     "text": [
      "average: 86.33333333333333, variance: 36.222222222223536, std: 6.018490028422705\n",
      "-0.11076975512434105\n"
     ]
    }
   ],
   "source": [
    "expectedValue = (test1[0] + 78 + test3[0]) / 3\n",
    "secondMoment = (test1[0]**2 + 78**2 + test3[0]**2) / 3\n",
    "variance = secondMoment - expectedValue**2\n",
    "std = variance**(1/2)\n",
    "print(f\"average: {expectedValue}, variance: {variance}, std: {std}\")\n",
    "\n",
    "stdAway = (expectedValue - 87)\n",
    "print(stdAway / std)"
   ]
  }
 ],
 "metadata": {
  "kernelspec": {
   "display_name": "Python 3.9.13 ('base')",
   "language": "python",
   "name": "python3"
  },
  "language_info": {
   "codemirror_mode": {
    "name": "ipython",
    "version": 3
   },
   "file_extension": ".py",
   "mimetype": "text/x-python",
   "name": "python",
   "nbconvert_exporter": "python",
   "pygments_lexer": "ipython3",
   "version": "3.9.13"
  },
  "orig_nbformat": 4,
  "vscode": {
   "interpreter": {
    "hash": "0765b9855a7659208f612bcb0b9b5e473e80eecc03acde40f135996d767af958"
   }
  }
 },
 "nbformat": 4,
 "nbformat_minor": 2
}
